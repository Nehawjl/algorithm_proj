{
 "cells": [
  {
   "cell_type": "code",
   "execution_count": 943,
   "id": "b81431fe",
   "metadata": {},
   "outputs": [
    {
     "name": "stdout",
     "output_type": "stream",
     "text": [
      "The autoreload extension is already loaded. To reload it, use:\n",
      "  %reload_ext autoreload\n"
     ]
    }
   ],
   "source": [
    "import numpy as np\n",
    "from scipy import linalg\n",
    "import matplotlib.pyplot as plt\n",
    "import time\n",
    "from sklearn.datasets import fetch_openml\n",
    "import pandas as pd\n",
    "from sklearn.preprocessing import StandardScaler\n",
    "import os\n",
    "\n",
    "from css.utility import seed_everything, frobenius_norm_sq, residual_error\n",
    "from load_data import load_dataset\n",
    "from svd import svd_error\n",
    "from css_solver import CSSProblemSolver\n",
    "\n",
    "%load_ext autoreload\n",
    "%autoreload 2"
   ]
  },
  {
   "cell_type": "markdown",
   "id": "05974622",
   "metadata": {},
   "source": [
    "## Load data from dataset"
   ]
  },
  {
   "cell_type": "code",
   "execution_count": 944,
   "id": "8d4bbfcd",
   "metadata": {},
   "outputs": [
    {
     "name": "stdout",
     "output_type": "stream",
     "text": [
      "Reading data from datasets/sonar/sonar.csv...\n",
      "Data read done with shape (208, 60)\n"
     ]
    }
   ],
   "source": [
    "dataset_name = \"sonar\"\n",
    "dataset_dir = \"datasets\"\n",
    "\n",
    "config_path = os.path.join(dataset_dir, dataset_name, \"detail.yaml\")\n",
    "data_matrix = load_dataset(dataset_name, config_path, read_label=False)"
   ]
  },
  {
   "cell_type": "markdown",
   "id": "757ba794",
   "metadata": {},
   "source": [
    "## Baseline -- best rank-k approximation using SVD"
   ]
  },
  {
   "cell_type": "code",
   "execution_count": null,
   "id": "75a65a83",
   "metadata": {},
   "outputs": [
    {
     "data": {
      "text/plain": [
       "np.float64(100.77146899491107)"
      ]
     },
     "execution_count": 945,
     "metadata": {},
     "output_type": "execute_result"
    }
   ],
   "source": [
    "k = 5\n",
    "t = 2 * k\n",
    "\n",
    "baseline = svd_error(data_matrix, k)\n",
    "baseline"
   ]
  },
  {
   "cell_type": "code",
   "execution_count": 946,
   "id": "8b6f8aee",
   "metadata": {},
   "outputs": [],
   "source": [
    "solver = CSSProblemSolver()"
   ]
  },
  {
   "cell_type": "markdown",
   "id": "96267b7a",
   "metadata": {},
   "source": [
    "## Random"
   ]
  },
  {
   "cell_type": "code",
   "execution_count": 947,
   "id": "727235e9",
   "metadata": {},
   "outputs": [
    {
     "name": "stdout",
     "output_type": "stream",
     "text": [
      "Selected Indices: [10, 3, 44, 16, 21]\n",
      "Residual Error: 307.2932081196531\n",
      "Error Ratio: 3.049406852798497\n"
     ]
    }
   ],
   "source": [
    "indices_random = solver.solve('random', data_matrix, k)\n",
    "error_random = solver.get_objective(data_matrix, indices_random)\n",
    "print(f\"Selected Indices: {indices_random}\\nResidual Error: {error_random}\\nError Ratio: {error_random / baseline}\")"
   ]
  },
  {
   "cell_type": "markdown",
   "id": "c9360164",
   "metadata": {},
   "source": [
    "## Greedy"
   ]
  },
  {
   "cell_type": "code",
   "execution_count": 948,
   "id": "3fb71838",
   "metadata": {},
   "outputs": [
    {
     "name": "stdout",
     "output_type": "stream",
     "text": [
      "Selected Indices: [25, 18, 33, 29, 37]\n",
      "Residual Error: 151.83737430295716\n",
      "Error Ratio: 1.5067496367511015\n",
      "Selected Indices: [np.int64(25), np.int64(18), np.int64(33), np.int64(29), np.int64(37)]\n",
      "Residual Error: 151.83737430295716\n",
      "Error Ratio: 1.5067496367511015\n",
      "Selected Indices: [np.int64(25), np.int64(37), np.int64(13), np.int64(30), np.int64(20)]\n",
      "Residual Error: 154.76230157335456\n",
      "Error Ratio: 1.5357749878705251\n"
     ]
    }
   ],
   "source": [
    "indices_greedy = solver.solve('greedy', data_matrix, k)\n",
    "error_greedy = solver.get_objective(data_matrix, indices_greedy)\n",
    "print(f\"Selected Indices: {indices_greedy}\\nResidual Error: {error_greedy}\\nError Ratio: {error_greedy / baseline}\")\n",
    "\n",
    "indices_greedy_recursive = solver.solve('greedy_rec', data_matrix, k)\n",
    "error_greedy_recursive = residual_error(data_matrix, indices_greedy_recursive)\n",
    "print(f\"Selected Indices: {indices_greedy_recursive}\\nResidual Error: {error_greedy_recursive}\\nError Ratio: {error_greedy_recursive / baseline}\")\n",
    "\n",
    "indices_greedy_partition = solver.solve('greedy_par', data_matrix, k, k)\n",
    "error_greedy_partition = residual_error(data_matrix, indices_greedy_partition)\n",
    "print(f\"Selected Indices: {indices_greedy_partition}\\nResidual Error: {error_greedy_partition}\\nError Ratio: {error_greedy_partition / baseline}\")"
   ]
  },
  {
   "cell_type": "markdown",
   "id": "05d4bf1f",
   "metadata": {},
   "source": [
    "## LSCSS"
   ]
  },
  {
   "cell_type": "code",
   "execution_count": 952,
   "id": "ac8a6ce2",
   "metadata": {},
   "outputs": [
    {
     "name": "stdout",
     "output_type": "stream",
     "text": [
      "selected: [np.int64(35), np.int64(44), np.int64(18), np.int64(23), np.int64(28)]\n",
      "error: 148.73296467650232\n",
      "error ratio: 1.4759432025746622\n"
     ]
    }
   ],
   "source": [
    "selected_indices_lscss = solver.solve('lscss', data_matrix, k, t)\n",
    "error_lscss = solver.get_objective(data_matrix, selected_indices_lscss)\n",
    "print(f\"selected: {selected_indices_lscss}\\nerror: {error_lscss}\\nerror ratio: {error_lscss/baseline}\")"
   ]
  },
  {
   "cell_type": "markdown",
   "id": "584a8047",
   "metadata": {},
   "source": [
    "## Brute Force"
   ]
  },
  {
   "cell_type": "code",
   "execution_count": 953,
   "id": "268ff9c2",
   "metadata": {},
   "outputs": [
    {
     "ename": "ValueError",
     "evalue": "Unknown method: bf. Methods should be within: ['random', 'greedy', 'greedy_rec', 'greedy_par', 'lscss']",
     "output_type": "error",
     "traceback": [
      "\u001b[0;31m---------------------------------------------------------------------------\u001b[0m",
      "\u001b[0;31mValueError\u001b[0m                                Traceback (most recent call last)",
      "Cell \u001b[0;32mIn[953], line 1\u001b[0m\n\u001b[0;32m----> 1\u001b[0m selected_indices_bf \u001b[38;5;241m=\u001b[39m \u001b[43msolver\u001b[49m\u001b[38;5;241;43m.\u001b[39;49m\u001b[43msolve\u001b[49m\u001b[43m(\u001b[49m\u001b[38;5;124;43m'\u001b[39;49m\u001b[38;5;124;43mbf\u001b[39;49m\u001b[38;5;124;43m'\u001b[39;49m\u001b[43m,\u001b[49m\u001b[43m \u001b[49m\u001b[43mdata_matrix\u001b[49m\u001b[43m,\u001b[49m\u001b[43m \u001b[49m\u001b[43mk\u001b[49m\u001b[43m)\u001b[49m\n\u001b[1;32m      2\u001b[0m error_bf \u001b[38;5;241m=\u001b[39m solver\u001b[38;5;241m.\u001b[39mget_objective(data_matrix, selected_indices_bf)\n\u001b[1;32m      3\u001b[0m \u001b[38;5;28mprint\u001b[39m(\u001b[38;5;124mf\u001b[39m\u001b[38;5;124m\"\u001b[39m\u001b[38;5;124mselected: \u001b[39m\u001b[38;5;132;01m{\u001b[39;00mselected_indices_bf\u001b[38;5;132;01m}\u001b[39;00m\u001b[38;5;130;01m\\n\u001b[39;00m\u001b[38;5;124merror: \u001b[39m\u001b[38;5;132;01m{\u001b[39;00merror_bf\u001b[38;5;132;01m}\u001b[39;00m\u001b[38;5;130;01m\\n\u001b[39;00m\u001b[38;5;124merror ratio: \u001b[39m\u001b[38;5;132;01m{\u001b[39;00merror_bf\u001b[38;5;250m \u001b[39m\u001b[38;5;241m/\u001b[39m\u001b[38;5;250m \u001b[39mbaseline\u001b[38;5;132;01m}\u001b[39;00m\u001b[38;5;124m\"\u001b[39m)\n",
      "File \u001b[0;32m~/mypro/class/alg/css/css_solver.py:24\u001b[0m, in \u001b[0;36mCSSProblemSolver.solve\u001b[0;34m(self, method_name, *args, **kwargs)\u001b[0m\n\u001b[1;32m     22\u001b[0m \u001b[38;5;28;01mdef\u001b[39;00m \u001b[38;5;21msolve\u001b[39m(\u001b[38;5;28mself\u001b[39m, method_name, \u001b[38;5;241m*\u001b[39margs, \u001b[38;5;241m*\u001b[39m\u001b[38;5;241m*\u001b[39mkwargs):\n\u001b[1;32m     23\u001b[0m     \u001b[38;5;28;01mif\u001b[39;00m method_name \u001b[38;5;129;01mnot\u001b[39;00m \u001b[38;5;129;01min\u001b[39;00m \u001b[38;5;28mself\u001b[39m\u001b[38;5;241m.\u001b[39msolvers:\n\u001b[0;32m---> 24\u001b[0m         \u001b[38;5;28;01mraise\u001b[39;00m \u001b[38;5;167;01mValueError\u001b[39;00m(\u001b[38;5;124mf\u001b[39m\u001b[38;5;124m\"\u001b[39m\u001b[38;5;124mUnknown method: \u001b[39m\u001b[38;5;132;01m{\u001b[39;00mmethod_name\u001b[38;5;132;01m}\u001b[39;00m\u001b[38;5;124m. Methods should be within: \u001b[39m\u001b[38;5;132;01m{\u001b[39;00m\u001b[38;5;28mlist\u001b[39m(\u001b[38;5;28mself\u001b[39m\u001b[38;5;241m.\u001b[39msolvers\u001b[38;5;241m.\u001b[39mkeys())\u001b[38;5;132;01m}\u001b[39;00m\u001b[38;5;124m\"\u001b[39m)\n\u001b[1;32m     25\u001b[0m     \u001b[38;5;28;01mreturn\u001b[39;00m \u001b[38;5;28mself\u001b[39m\u001b[38;5;241m.\u001b[39msolvers[method_name](\u001b[38;5;241m*\u001b[39margs, \u001b[38;5;241m*\u001b[39m\u001b[38;5;241m*\u001b[39mkwargs)\n",
      "\u001b[0;31mValueError\u001b[0m: Unknown method: bf. Methods should be within: ['random', 'greedy', 'greedy_rec', 'greedy_par', 'lscss']"
     ]
    }
   ],
   "source": [
    "selected_indices_bf = solver.solve('bf', data_matrix, k)\n",
    "error_bf = solver.get_objective(data_matrix, selected_indices_bf)\n",
    "print(f\"selected: {selected_indices_bf}\\nerror: {error_bf}\\nerror ratio: {error_bf / baseline}\")"
   ]
  }
 ],
 "metadata": {
  "kernelspec": {
   "display_name": "llm",
   "language": "python",
   "name": "python3"
  },
  "language_info": {
   "codemirror_mode": {
    "name": "ipython",
    "version": 3
   },
   "file_extension": ".py",
   "mimetype": "text/x-python",
   "name": "python",
   "nbconvert_exporter": "python",
   "pygments_lexer": "ipython3",
   "version": "3.12.8"
  }
 },
 "nbformat": 4,
 "nbformat_minor": 5
}
