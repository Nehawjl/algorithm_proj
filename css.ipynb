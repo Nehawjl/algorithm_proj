{
 "cells": [
  {
   "cell_type": "code",
   "execution_count": 842,
   "id": "b81431fe",
   "metadata": {},
   "outputs": [
    {
     "name": "stdout",
     "output_type": "stream",
     "text": [
      "The autoreload extension is already loaded. To reload it, use:\n",
      "  %reload_ext autoreload\n"
     ]
    }
   ],
   "source": [
    "import numpy as np\n",
    "from scipy import linalg\n",
    "import matplotlib.pyplot as plt\n",
    "import time\n",
    "from sklearn.datasets import fetch_openml\n",
    "import pandas as pd\n",
    "from sklearn.preprocessing import StandardScaler\n",
    "import os\n",
    "\n",
    "from utility import seed_everything, frobenius_norm_sq, residual_error\n",
    "from load_data import load_dataset\n",
    "from svd import svd_error\n",
    "from random_css import random_css\n",
    "from greedy_css import greedy_css, greedy_recursive_css, partition_greedy_css\n",
    "from lscss import lscss_algorithm as lscss\n",
    "\n",
    "%load_ext autoreload\n",
    "%autoreload 2"
   ]
  },
  {
   "cell_type": "code",
   "execution_count": 33,
   "id": "2a727565",
   "metadata": {},
   "outputs": [],
   "source": [
    "seed_everything()"
   ]
  },
  {
   "cell_type": "markdown",
   "id": "05974622",
   "metadata": {},
   "source": [
    "## Load data from dataset"
   ]
  },
  {
   "cell_type": "code",
   "execution_count": 157,
   "id": "8d4bbfcd",
   "metadata": {},
   "outputs": [
    {
     "name": "stdout",
     "output_type": "stream",
     "text": [
      "Reading data from datasets/sonar/sonar.csv...\n",
      "Data read done with shape (208, 60)\n"
     ]
    }
   ],
   "source": [
    "dataset_name = \"sonar\"\n",
    "dataset_dir = \"datasets\"\n",
    "\n",
    "config_path = os.path.join(dataset_dir, dataset_name, \"detail.yaml\")\n",
    "data_matrix = load_dataset(dataset_name, config_path, read_label=False)"
   ]
  },
  {
   "cell_type": "markdown",
   "id": "757ba794",
   "metadata": {},
   "source": [
    "## Baseline -- best rank-k approximation using SVD"
   ]
  },
  {
   "cell_type": "code",
   "execution_count": 883,
   "id": "75a65a83",
   "metadata": {},
   "outputs": [
    {
     "data": {
      "text/plain": [
       "np.float64(44.369160352730574)"
      ]
     },
     "execution_count": 883,
     "metadata": {},
     "output_type": "execute_result"
    }
   ],
   "source": [
    "k = 10\n",
    "\n",
    "baseline = svd_error(data_matrix, k)\n",
    "baseline"
   ]
  },
  {
   "cell_type": "markdown",
   "id": "96267b7a",
   "metadata": {},
   "source": [
    "## Random"
   ]
  },
  {
   "cell_type": "code",
   "execution_count": 884,
   "id": "727235e9",
   "metadata": {},
   "outputs": [
    {
     "name": "stdout",
     "output_type": "stream",
     "text": [
      "Selected Indices: [29, 21, 13, 25, 10, 51, 18, 40, 36, 8], Residual Error: 99.56266372475791\n"
     ]
    }
   ],
   "source": [
    "indices_random = random_css(data_matrix, k)\n",
    "error_random = residual_error(data_matrix, indices_random)\n",
    "print(f\"Selected Indices: {indices_random}, Residual Error: {error_random}\")"
   ]
  },
  {
   "cell_type": "markdown",
   "id": "c9360164",
   "metadata": {},
   "source": [
    "## Greedy"
   ]
  },
  {
   "cell_type": "code",
   "execution_count": 885,
   "id": "3fb71838",
   "metadata": {},
   "outputs": [],
   "source": [
    "indices_greedy = greedy_css(data_matrix, k)\n",
    "indices_greedy_recursive = greedy_recursive_css(data_matrix, k)\n",
    "indices_greedy_partition = partition_greedy_css(data_matrix, k, k)"
   ]
  },
  {
   "cell_type": "code",
   "execution_count": 886,
   "id": "e09b4665",
   "metadata": {},
   "outputs": [],
   "source": [
    "error_greedy = residual_error(data_matrix, indices_greedy)\n",
    "error_greedy_recursive = residual_error(data_matrix, indices_greedy_recursive)\n",
    "error_greedy_partition = residual_error(data_matrix, indices_greedy_partition)"
   ]
  },
  {
   "cell_type": "code",
   "execution_count": 887,
   "id": "8644f9e7",
   "metadata": {},
   "outputs": [
    {
     "name": "stdout",
     "output_type": "stream",
     "text": [
      "71.60741860624888 71.60741860624888 74.47816305885642\n"
     ]
    }
   ],
   "source": [
    "print(error_greedy, error_greedy_recursive, error_greedy_partition)"
   ]
  },
  {
   "cell_type": "markdown",
   "id": "05d4bf1f",
   "metadata": {},
   "source": [
    "## LSCSS"
   ]
  },
  {
   "cell_type": "code",
   "execution_count": 888,
   "id": "8cc87bf7",
   "metadata": {},
   "outputs": [],
   "source": [
    "t =  2 * k"
   ]
  },
  {
   "cell_type": "code",
   "execution_count": 893,
   "id": "ac8a6ce2",
   "metadata": {},
   "outputs": [
    {
     "name": "stdout",
     "output_type": "stream",
     "text": [
      "selected: [np.int64(34), np.int64(37), np.int64(41), np.int64(15), np.int64(18), np.int64(20), np.int64(22), np.int64(25), np.int64(28), np.int64(30)]\n",
      "error: 70.92179752454732\n",
      "error ratio: 1.5984480427559553\n"
     ]
    }
   ],
   "source": [
    "selected_indices_lscss1 = lscss(data_matrix, k, t)\n",
    "error_lscss1 = residual_error(data_matrix, selected_indices_lscss1)\n",
    "print(f\"selected: {selected_indices_lscss1}\\nerror: {error_lscss1}\\nerror ratio: {error_lscss1/baseline}\")"
   ]
  }
 ],
 "metadata": {
  "kernelspec": {
   "display_name": "llm",
   "language": "python",
   "name": "python3"
  },
  "language_info": {
   "codemirror_mode": {
    "name": "ipython",
    "version": 3
   },
   "file_extension": ".py",
   "mimetype": "text/x-python",
   "name": "python",
   "nbconvert_exporter": "python",
   "pygments_lexer": "ipython3",
   "version": "3.12.8"
  }
 },
 "nbformat": 4,
 "nbformat_minor": 5
}
