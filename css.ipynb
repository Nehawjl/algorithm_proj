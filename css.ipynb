{
 "cells": [
  {
   "cell_type": "code",
   "execution_count": 14,
   "id": "b81431fe",
   "metadata": {},
   "outputs": [
    {
     "name": "stdout",
     "output_type": "stream",
     "text": [
      "The autoreload extension is already loaded. To reload it, use:\n",
      "  %reload_ext autoreload\n"
     ]
    }
   ],
   "source": [
    "import numpy as np\n",
    "from scipy import linalg\n",
    "import matplotlib.pyplot as plt\n",
    "import time\n",
    "from sklearn.datasets import fetch_openml\n",
    "import pandas as pd\n",
    "from sklearn.preprocessing import StandardScaler\n",
    "import os\n",
    "\n",
    "from css.utility import seed_everything, frobenius_norm_sq, residual_error\n",
    "from load_data import load_dataset\n",
    "from svd import svd_error\n",
    "from css_solver import CSSProblemSolver\n",
    "\n",
    "%load_ext autoreload\n",
    "%autoreload 2"
   ]
  },
  {
   "cell_type": "markdown",
   "id": "05974622",
   "metadata": {},
   "source": [
    "## Load data from dataset"
   ]
  },
  {
   "cell_type": "code",
   "execution_count": 2,
   "id": "8d4bbfcd",
   "metadata": {},
   "outputs": [
    {
     "name": "stdout",
     "output_type": "stream",
     "text": [
      "Reading data from datasets/cmhs/PS1.txt...\n",
      "File PS1.txt read with shape (2205, 6000)\n",
      "Reading data from datasets/cmhs/PS2.txt...\n",
      "File PS2.txt read with shape (2205, 6000)\n",
      "Reading data from datasets/cmhs/PS3.txt...\n",
      "File PS3.txt read with shape (2205, 6000)\n",
      "Reading data from datasets/cmhs/PS4.txt...\n",
      "File PS4.txt read with shape (2205, 6000)\n",
      "Reading data from datasets/cmhs/PS5.txt...\n",
      "File PS5.txt read with shape (2205, 6000)\n",
      "Reading data from datasets/cmhs/PS6.txt...\n",
      "File PS6.txt read with shape (2205, 6000)\n",
      "Reading data from datasets/cmhs/EPS1.txt...\n",
      "File EPS1.txt read with shape (2205, 6000)\n",
      "Reading data from datasets/cmhs/FS1.txt...\n",
      "File FS1.txt read with shape (2205, 600)\n",
      "Reading data from datasets/cmhs/FS2.txt...\n",
      "File FS2.txt read with shape (2205, 600)\n",
      "Reading data from datasets/cmhs/TS1.txt...\n",
      "File TS1.txt read with shape (2205, 60)\n",
      "Reading data from datasets/cmhs/TS2.txt...\n",
      "File TS2.txt read with shape (2205, 60)\n",
      "Reading data from datasets/cmhs/TS3.txt...\n",
      "File TS3.txt read with shape (2205, 60)\n",
      "Reading data from datasets/cmhs/TS4.txt...\n",
      "File TS4.txt read with shape (2205, 60)\n",
      "Reading data from datasets/cmhs/VS1.txt...\n",
      "File VS1.txt read with shape (2205, 60)\n",
      "Reading data from datasets/cmhs/CE.txt...\n",
      "File CE.txt read with shape (2205, 60)\n",
      "Reading data from datasets/cmhs/CP.txt...\n",
      "File CP.txt read with shape (2205, 60)\n",
      "Reading data from datasets/cmhs/SE.txt...\n",
      "File SE.txt read with shape (2205, 60)\n",
      "Combined data matrix shape: (2205, 43680)\n"
     ]
    }
   ],
   "source": [
    "# dataset_name = \"sonar\" # 208 x 60\n",
    "dataset_name = \"cmhs\" # 2205 x 43680\n",
    "dataset_dir = \"datasets\"\n",
    "\n",
    "config_path = os.path.join(dataset_dir, dataset_name, \"detail.yaml\")\n",
    "data_matrix = load_dataset(dataset_name, config_path)"
   ]
  },
  {
   "cell_type": "markdown",
   "id": "757ba794",
   "metadata": {},
   "source": [
    "## Baseline -- best rank-k approximation using SVD"
   ]
  },
  {
   "cell_type": "code",
   "execution_count": 3,
   "id": "75a65a83",
   "metadata": {},
   "outputs": [
    {
     "data": {
      "text/plain": [
       "np.float64(2004301751.5969284)"
      ]
     },
     "execution_count": 3,
     "metadata": {},
     "output_type": "execute_result"
    }
   ],
   "source": [
    "k = 5\n",
    "t = 2 * k\n",
    "\n",
    "baseline = svd_error(data_matrix, k)\n",
    "baseline"
   ]
  },
  {
   "cell_type": "code",
   "execution_count": 15,
   "id": "8b6f8aee",
   "metadata": {},
   "outputs": [],
   "source": [
    "solver = CSSProblemSolver()"
   ]
  },
  {
   "cell_type": "markdown",
   "id": "96267b7a",
   "metadata": {},
   "source": [
    "## Random"
   ]
  },
  {
   "cell_type": "code",
   "execution_count": 5,
   "id": "727235e9",
   "metadata": {},
   "outputs": [
    {
     "name": "stdout",
     "output_type": "stream",
     "text": [
      "Selected Indices: [37981, 40931, 14778, 35613, 34829]\n",
      "Residual Error: 11870221971.6695\n",
      "Error Ratio: 5.922372697729719\n"
     ]
    }
   ],
   "source": [
    "indices_random = solver.solve('random', data_matrix, k)\n",
    "error_random = solver.get_objective(data_matrix, indices_random)\n",
    "print(f\"Selected Indices: {indices_random}\\nResidual Error: {error_random}\\nError Ratio: {error_random / baseline}\")"
   ]
  },
  {
   "cell_type": "markdown",
   "id": "c9360164",
   "metadata": {},
   "source": [
    "## Greedy"
   ]
  },
  {
   "cell_type": "code",
   "execution_count": 17,
   "id": "8706d6cc",
   "metadata": {},
   "outputs": [
    {
     "ename": "KeyboardInterrupt",
     "evalue": "",
     "output_type": "error",
     "traceback": [
      "\u001b[0;31m---------------------------------------------------------------------------\u001b[0m",
      "\u001b[0;31mKeyboardInterrupt\u001b[0m                         Traceback (most recent call last)",
      "Cell \u001b[0;32mIn[17], line 1\u001b[0m\n\u001b[0;32m----> 1\u001b[0m indices_greedy \u001b[38;5;241m=\u001b[39m \u001b[43msolver\u001b[49m\u001b[38;5;241;43m.\u001b[39;49m\u001b[43msolve\u001b[49m\u001b[43m(\u001b[49m\u001b[38;5;124;43m'\u001b[39;49m\u001b[38;5;124;43mgreedy\u001b[39;49m\u001b[38;5;124;43m'\u001b[39;49m\u001b[43m,\u001b[49m\u001b[43m \u001b[49m\u001b[43mdata_matrix\u001b[49m\u001b[43m,\u001b[49m\u001b[43m \u001b[49m\u001b[43mk\u001b[49m\u001b[43m)\u001b[49m\n\u001b[1;32m      2\u001b[0m error_greedy \u001b[38;5;241m=\u001b[39m solver\u001b[38;5;241m.\u001b[39mget_objective(data_matrix, indices_greedy)\n\u001b[1;32m      3\u001b[0m \u001b[38;5;28mprint\u001b[39m(\u001b[38;5;124mf\u001b[39m\u001b[38;5;124m\"\u001b[39m\u001b[38;5;124mSelected Indices: \u001b[39m\u001b[38;5;132;01m{\u001b[39;00mindices_greedy\u001b[38;5;132;01m}\u001b[39;00m\u001b[38;5;130;01m\\n\u001b[39;00m\u001b[38;5;124mResidual Error: \u001b[39m\u001b[38;5;132;01m{\u001b[39;00merror_greedy\u001b[38;5;132;01m}\u001b[39;00m\u001b[38;5;130;01m\\n\u001b[39;00m\u001b[38;5;124mError Ratio: \u001b[39m\u001b[38;5;132;01m{\u001b[39;00merror_greedy\u001b[38;5;250m \u001b[39m\u001b[38;5;241m/\u001b[39m\u001b[38;5;250m \u001b[39mbaseline\u001b[38;5;132;01m}\u001b[39;00m\u001b[38;5;124m\"\u001b[39m)\n",
      "File \u001b[0;32m~/mypro/class/alg/css/css_solver.py:29\u001b[0m, in \u001b[0;36mCSSProblemSolver.solve\u001b[0;34m(self, method_name, *args, **kwargs)\u001b[0m\n\u001b[1;32m     27\u001b[0m \u001b[38;5;28;01mif\u001b[39;00m method_name \u001b[38;5;129;01mnot\u001b[39;00m \u001b[38;5;129;01min\u001b[39;00m \u001b[38;5;28mself\u001b[39m\u001b[38;5;241m.\u001b[39msolvers:\n\u001b[1;32m     28\u001b[0m     \u001b[38;5;28;01mraise\u001b[39;00m \u001b[38;5;167;01mValueError\u001b[39;00m(\u001b[38;5;124mf\u001b[39m\u001b[38;5;124m\"\u001b[39m\u001b[38;5;124mUnknown method: \u001b[39m\u001b[38;5;132;01m{\u001b[39;00mmethod_name\u001b[38;5;132;01m}\u001b[39;00m\u001b[38;5;124m. Methods should be within: \u001b[39m\u001b[38;5;132;01m{\u001b[39;00m\u001b[38;5;28mlist\u001b[39m(\u001b[38;5;28mself\u001b[39m\u001b[38;5;241m.\u001b[39msolvers\u001b[38;5;241m.\u001b[39mkeys())\u001b[38;5;132;01m}\u001b[39;00m\u001b[38;5;124m\"\u001b[39m)\n\u001b[0;32m---> 29\u001b[0m \u001b[38;5;28;01mreturn\u001b[39;00m \u001b[38;5;28;43mself\u001b[39;49m\u001b[38;5;241;43m.\u001b[39;49m\u001b[43msolvers\u001b[49m\u001b[43m[\u001b[49m\u001b[43mmethod_name\u001b[49m\u001b[43m]\u001b[49m\u001b[43m(\u001b[49m\u001b[38;5;241;43m*\u001b[39;49m\u001b[43margs\u001b[49m\u001b[43m,\u001b[49m\u001b[43m \u001b[49m\u001b[38;5;241;43m*\u001b[39;49m\u001b[38;5;241;43m*\u001b[39;49m\u001b[43mkwargs\u001b[49m\u001b[43m)\u001b[49m\n",
      "File \u001b[0;32m~/mypro/class/alg/css/css/greedy_css.py:22\u001b[0m, in \u001b[0;36mgreedy_css\u001b[0;34m(A, k)\u001b[0m\n\u001b[1;32m     20\u001b[0m \u001b[38;5;28;01mfor\u001b[39;00m candidate_idx \u001b[38;5;129;01min\u001b[39;00m remaining_indices:\n\u001b[1;32m     21\u001b[0m     temp_selection \u001b[38;5;241m=\u001b[39m selected_indices \u001b[38;5;241m+\u001b[39m [candidate_idx]\n\u001b[0;32m---> 22\u001b[0m     error \u001b[38;5;241m=\u001b[39m \u001b[43mresidual_error\u001b[49m\u001b[43m(\u001b[49m\u001b[43mA\u001b[49m\u001b[43m,\u001b[49m\u001b[43m \u001b[49m\u001b[43mtemp_selection\u001b[49m\u001b[43m)\u001b[49m\n\u001b[1;32m     24\u001b[0m     \u001b[38;5;28;01mif\u001b[39;00m error \u001b[38;5;241m<\u001b[39m min_error_for_this_step:\n\u001b[1;32m     25\u001b[0m         min_error_for_this_step \u001b[38;5;241m=\u001b[39m error\n",
      "File \u001b[0;32m~/mypro/class/alg/css/css/utility.py:41\u001b[0m, in \u001b[0;36mresidual_error\u001b[0;34m(matrix, indices)\u001b[0m\n\u001b[1;32m     39\u001b[0m     S_pinv = np.linalg.pinv(S)\n\u001b[1;32m     40\u001b[0m     error_val = frobenius_norm_sq(A - S @ S_pinv @ A)\n\u001b[0;32m---> 41\u001b[0m     # S_pinv_A = np.linalg.lstsq(S, A, rcond=None)[0]\n\u001b[1;32m     42\u001b[0m     # residual = A - S @ S_pinv_A\n\u001b[1;32m     43\u001b[0m     # error_val = frobenius_norm_sq(residual)\n\u001b[1;32m     44\u001b[0m except np.linalg.LinAlgError:\n\u001b[1;32m     45\u001b[0m     print(f\"Warning: SVD did not converge for S with columns {I}. Assigning high error.\")\n",
      "File \u001b[0;32m~/miniconda3/envs/llm/lib/python3.12/site-packages/numpy/linalg/_linalg.py:2516\u001b[0m, in \u001b[0;36mlstsq\u001b[0;34m(a, b, rcond)\u001b[0m\n\u001b[1;32m   2512\u001b[0m     b \u001b[38;5;241m=\u001b[39m zeros(b\u001b[38;5;241m.\u001b[39mshape[:\u001b[38;5;241m-\u001b[39m\u001b[38;5;241m2\u001b[39m] \u001b[38;5;241m+\u001b[39m (m, n_rhs \u001b[38;5;241m+\u001b[39m \u001b[38;5;241m1\u001b[39m), dtype\u001b[38;5;241m=\u001b[39mb\u001b[38;5;241m.\u001b[39mdtype)\n\u001b[1;32m   2514\u001b[0m \u001b[38;5;28;01mwith\u001b[39;00m errstate(call\u001b[38;5;241m=\u001b[39m_raise_linalgerror_lstsq, invalid\u001b[38;5;241m=\u001b[39m\u001b[38;5;124m'\u001b[39m\u001b[38;5;124mcall\u001b[39m\u001b[38;5;124m'\u001b[39m,\n\u001b[1;32m   2515\u001b[0m               over\u001b[38;5;241m=\u001b[39m\u001b[38;5;124m'\u001b[39m\u001b[38;5;124mignore\u001b[39m\u001b[38;5;124m'\u001b[39m, divide\u001b[38;5;241m=\u001b[39m\u001b[38;5;124m'\u001b[39m\u001b[38;5;124mignore\u001b[39m\u001b[38;5;124m'\u001b[39m, under\u001b[38;5;241m=\u001b[39m\u001b[38;5;124m'\u001b[39m\u001b[38;5;124mignore\u001b[39m\u001b[38;5;124m'\u001b[39m):\n\u001b[0;32m-> 2516\u001b[0m     x, resids, rank, s \u001b[38;5;241m=\u001b[39m \u001b[43m_umath_linalg\u001b[49m\u001b[38;5;241;43m.\u001b[39;49m\u001b[43mlstsq\u001b[49m\u001b[43m(\u001b[49m\u001b[43ma\u001b[49m\u001b[43m,\u001b[49m\u001b[43m \u001b[49m\u001b[43mb\u001b[49m\u001b[43m,\u001b[49m\u001b[43m \u001b[49m\u001b[43mrcond\u001b[49m\u001b[43m,\u001b[49m\n\u001b[1;32m   2517\u001b[0m \u001b[43m                                             \u001b[49m\u001b[43msignature\u001b[49m\u001b[38;5;241;43m=\u001b[39;49m\u001b[43msignature\u001b[49m\u001b[43m)\u001b[49m\n\u001b[1;32m   2518\u001b[0m \u001b[38;5;28;01mif\u001b[39;00m m \u001b[38;5;241m==\u001b[39m \u001b[38;5;241m0\u001b[39m:\n\u001b[1;32m   2519\u001b[0m     x[\u001b[38;5;241m.\u001b[39m\u001b[38;5;241m.\u001b[39m\u001b[38;5;241m.\u001b[39m] \u001b[38;5;241m=\u001b[39m \u001b[38;5;241m0\u001b[39m\n",
      "\u001b[0;31mKeyboardInterrupt\u001b[0m: "
     ]
    }
   ],
   "source": [
    "indices_greedy = solver.solve('greedy', data_matrix, k)\n",
    "error_greedy = solver.get_objective(data_matrix, indices_greedy)\n",
    "print(f\"Selected Indices: {indices_greedy}\\nResidual Error: {error_greedy}\\nError Ratio: {error_greedy / baseline}\")"
   ]
  },
  {
   "cell_type": "code",
   "execution_count": 6,
   "id": "3fb71838",
   "metadata": {},
   "outputs": [
    {
     "name": "stdout",
     "output_type": "stream",
     "text": [
      "Selected Indices: [np.int64(37992), np.int64(42391), np.int64(40973), np.int64(39251), np.int64(966)]\n",
      "Residual Error: 3537949150.676707\n",
      "Error Ratio: 1.7651778969198846\n"
     ]
    }
   ],
   "source": [
    "# indices_greedy = solver.solve('greedy', data_matrix, k)\n",
    "# error_greedy = solver.get_objective(data_matrix, indices_greedy)\n",
    "# print(f\"Selected Indices: {indices_greedy}\\nResidual Error: {error_greedy}\\nError Ratio: {error_greedy / baseline}\")\n",
    "\n",
    "indices_greedy_recursive = solver.solve('greedy_rec', data_matrix, k)\n",
    "error_greedy_recursive = residual_error(data_matrix, indices_greedy_recursive)\n",
    "print(f\"Selected Indices: {indices_greedy_recursive}\\nResidual Error: {error_greedy_recursive}\\nError Ratio: {error_greedy_recursive / baseline}\")\n",
    "\n",
    "# indices_greedy_partition = solver.solve('greedy_par', data_matrix, k, k)\n",
    "# error_greedy_partition = residual_error(data_matrix, indices_greedy_partition)\n",
    "# print(f\"Selected Indices: {indices_greedy_partition}\\nResidual Error: {error_greedy_partition}\\nError Ratio: {error_greedy_partition / baseline}\")"
   ]
  },
  {
   "cell_type": "markdown",
   "id": "05d4bf1f",
   "metadata": {},
   "source": [
    "## LSCSS"
   ]
  },
  {
   "cell_type": "code",
   "execution_count": 7,
   "id": "ac8a6ce2",
   "metadata": {},
   "outputs": [
    {
     "name": "stdout",
     "output_type": "stream",
     "text": [
      "selected: [np.int64(40966), np.int64(38412), np.int64(40144), np.int64(36988), np.int64(36542)]\n",
      "error: 2798501198.8235397\n",
      "error ratio: 1.396247444574567\n"
     ]
    }
   ],
   "source": [
    "selected_indices_lscss = solver.solve('lscss', data_matrix, k, t)\n",
    "error_lscss = solver.get_objective(data_matrix, selected_indices_lscss)\n",
    "print(f\"selected: {selected_indices_lscss}\\nerror: {error_lscss}\\nerror ratio: {error_lscss/baseline}\")"
   ]
  },
  {
   "cell_type": "code",
   "execution_count": 11,
   "id": "d025640a",
   "metadata": {},
   "outputs": [
    {
     "name": "stdout",
     "output_type": "stream",
     "text": [
      "selected: [np.int64(40528), np.int64(38682), np.int64(41608), np.int64(37019), np.int64(36949)]\n",
      "error: 2576727244.339547\n",
      "error ratio: 1.2855984595565706\n"
     ]
    }
   ],
   "source": [
    "selected_indices_lscss_inc = solver.solve('lscss_inc', data_matrix, k, t)\n",
    "error_lscss_inc = solver.get_objective(data_matrix, selected_indices_lscss_inc)\n",
    "print(f\"selected: {selected_indices_lscss_inc}\\nerror: {error_lscss_inc}\\nerror ratio: {error_lscss_inc/baseline}\")"
   ]
  },
  {
   "cell_type": "code",
   "execution_count": 16,
   "id": "fb2f1c22",
   "metadata": {},
   "outputs": [
    {
     "name": "stdout",
     "output_type": "stream",
     "text": [
      "selected: [np.int64(40246), np.int64(41026), np.int64(36474), np.int64(38352), np.int64(37015)]\n",
      "error: 2608254725.825852\n",
      "error ratio: 1.3013283672220133\n"
     ]
    }
   ],
   "source": [
    "selected_indices_lscss_qr = solver.solve('lscss_qr', data_matrix, k, t)\n",
    "error_lscss_qr = solver.get_objective(data_matrix, selected_indices_lscss_qr)\n",
    "print(f\"selected: {selected_indices_lscss_qr}\\nerror: {error_lscss_qr}\\nerror ratio: {error_lscss_qr/baseline}\")"
   ]
  },
  {
   "cell_type": "markdown",
   "id": "97b25560",
   "metadata": {},
   "source": [
    "Measure Time"
   ]
  },
  {
   "cell_type": "markdown",
   "id": "584a8047",
   "metadata": {},
   "source": [
    "## Brute Force\n",
    "ONLY for small datasets"
   ]
  },
  {
   "cell_type": "code",
   "execution_count": 956,
   "id": "268ff9c2",
   "metadata": {},
   "outputs": [
    {
     "name": "stdout",
     "output_type": "stream",
     "text": [
      "selected: [16, 19, 24, 29, 35]\n",
      "error: 139.03087039957987\n",
      "error ratio: 1.3796650161624704\n"
     ]
    }
   ],
   "source": [
    "selected_indices_bf = solver.solve('bf', data_matrix, k)\n",
    "error_bf = solver.get_objective(data_matrix, selected_indices_bf)\n",
    "print(f\"selected: {selected_indices_bf}\\nerror: {error_bf}\\nerror ratio: {error_bf / baseline}\")"
   ]
  }
 ],
 "metadata": {
  "kernelspec": {
   "display_name": "llm",
   "language": "python",
   "name": "python3"
  },
  "language_info": {
   "codemirror_mode": {
    "name": "ipython",
    "version": 3
   },
   "file_extension": ".py",
   "mimetype": "text/x-python",
   "name": "python",
   "nbconvert_exporter": "python",
   "pygments_lexer": "ipython3",
   "version": "3.12.8"
  }
 },
 "nbformat": 4,
 "nbformat_minor": 5
}
