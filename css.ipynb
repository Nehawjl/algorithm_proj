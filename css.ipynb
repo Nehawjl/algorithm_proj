{
 "cells": [
  {
   "cell_type": "code",
   "execution_count": 94,
   "id": "b81431fe",
   "metadata": {},
   "outputs": [
    {
     "name": "stdout",
     "output_type": "stream",
     "text": [
      "The autoreload extension is already loaded. To reload it, use:\n",
      "  %reload_ext autoreload\n"
     ]
    }
   ],
   "source": [
    "import numpy as np\n",
    "from scipy import linalg\n",
    "import matplotlib.pyplot as plt\n",
    "import time\n",
    "from sklearn.datasets import fetch_openml\n",
    "import pandas as pd\n",
    "from sklearn.preprocessing import StandardScaler\n",
    "import os\n",
    "\n",
    "from metric import residual_error\n",
    "from utility import seed_everything, frobenius_norm_sq\n",
    "from load_data import load_dataset\n",
    "from svd import svd_error\n",
    "from random_css import random_css\n",
    "from greedy_css import greedy_css, greedy_recursive_css, partition_greedy_css\n",
    "\n",
    "%load_ext autoreload\n",
    "%autoreload 2"
   ]
  },
  {
   "cell_type": "code",
   "execution_count": 33,
   "id": "2a727565",
   "metadata": {},
   "outputs": [],
   "source": [
    "seed_everything()"
   ]
  },
  {
   "cell_type": "markdown",
   "id": "05974622",
   "metadata": {},
   "source": [
    "## Load data from dataset"
   ]
  },
  {
   "cell_type": "code",
   "execution_count": 71,
   "id": "8d4bbfcd",
   "metadata": {},
   "outputs": [
    {
     "name": "stdout",
     "output_type": "stream",
     "text": [
      "Reading data from datasets/sonar/sonar.csv...\n",
      "Data read done with shape (208, 60)\n"
     ]
    }
   ],
   "source": [
    "dataset_name = \"sonar\"\n",
    "dataset_dir = \"datasets\"\n",
    "\n",
    "config_path = os.path.join(dataset_dir, dataset_name, \"detail.yaml\")\n",
    "data_matrix = load_dataset(dataset_name, config_path, read_label=False)"
   ]
  },
  {
   "cell_type": "markdown",
   "id": "757ba794",
   "metadata": {},
   "source": [
    "## Baseline -- best rank-k approximation using SVD"
   ]
  },
  {
   "cell_type": "code",
   "execution_count": 77,
   "id": "75a65a83",
   "metadata": {},
   "outputs": [
    {
     "data": {
      "text/plain": [
       "np.float64(100.77146899491107)"
      ]
     },
     "execution_count": 77,
     "metadata": {},
     "output_type": "execute_result"
    }
   ],
   "source": [
    "k = 5\n",
    "\n",
    "baseline = svd_error(data_matrix, k)\n",
    "baseline"
   ]
  },
  {
   "cell_type": "code",
   "execution_count": 74,
   "id": "179ee1c5",
   "metadata": {},
   "outputs": [
    {
     "data": {
      "text/plain": [
       "np.float64(100.77146899491117)"
      ]
     },
     "execution_count": 74,
     "metadata": {},
     "output_type": "execute_result"
    }
   ],
   "source": [
    "def rank_k_svd(A, k):\n",
    "    d, n = A.shape\n",
    "    true_max_rank = min(d, n)\n",
    "    k = min(k, true_max_rank)\n",
    "    u, sigma, vh = np.linalg.svd(A)\n",
    "    u = u[:, :k]\n",
    "    sigma = np.diag(sigma[:k])\n",
    "    vh = vh[:k]\n",
    "    return u @ sigma @ vh\n",
    "\n",
    "baseline_1 = frobenius_norm_sq(data_matrix - rank_k_svd(data_matrix, k))\n",
    "baseline_1"
   ]
  },
  {
   "cell_type": "code",
   "execution_count": 76,
   "id": "7469063c",
   "metadata": {},
   "outputs": [
    {
     "data": {
      "text/plain": [
       "np.float64(100.77146899491117)"
      ]
     },
     "execution_count": 76,
     "metadata": {},
     "output_type": "execute_result"
    }
   ],
   "source": [
    "U_svd, s_svd, Vt_svd = np.linalg.svd(data_matrix, full_matrices=False)\n",
    "# 最优k维子空间投影误差 (由SVD的前k个左奇异向量张成的空间)\n",
    "A_projected_to_optimal_k_space = U_svd[:, :k] @ (U_svd[:, :k].T @ data_matrix)\n",
    "optimal_k_subspace_residual_sq = frobenius_norm_sq(data_matrix - A_projected_to_optimal_k_space)\n",
    "optimal_k_subspace_residual_sq"
   ]
  },
  {
   "cell_type": "markdown",
   "id": "96267b7a",
   "metadata": {},
   "source": [
    "## Random"
   ]
  },
  {
   "cell_type": "code",
   "execution_count": 78,
   "id": "727235e9",
   "metadata": {},
   "outputs": [
    {
     "name": "stdout",
     "output_type": "stream",
     "text": [
      "Selected Indices: [6, 40, 48, 8, 9], Residual Error: 475.7822000962927\n"
     ]
    }
   ],
   "source": [
    "indices_random = random_css(data_matrix, k)\n",
    "error_random = residual_error(data_matrix, indices_random)\n",
    "print(f\"Selected Indices: {indices_random}, Residual Error: {error_random}\")"
   ]
  },
  {
   "cell_type": "markdown",
   "id": "c9360164",
   "metadata": {},
   "source": [
    "## Greedy"
   ]
  },
  {
   "cell_type": "code",
   "execution_count": 100,
   "id": "3fb71838",
   "metadata": {},
   "outputs": [],
   "source": [
    "indices_greedy = greedy_css(data_matrix, k)\n",
    "indices_greedy_recursive = greedy_recursive_css(data_matrix, k)\n",
    "indices_greedy_partition = partition_greedy_css(data_matrix, k, k)"
   ]
  },
  {
   "cell_type": "code",
   "execution_count": 101,
   "id": "e09b4665",
   "metadata": {},
   "outputs": [],
   "source": [
    "error_greedy = residual_error(data_matrix, indices_greedy)\n",
    "error_greedy_recursive = residual_error(data_matrix, indices_greedy_recursive)\n",
    "error_greedy_partition = residual_error(data_matrix, indices_greedy_partition)"
   ]
  },
  {
   "cell_type": "code",
   "execution_count": 102,
   "id": "8644f9e7",
   "metadata": {},
   "outputs": [
    {
     "name": "stdout",
     "output_type": "stream",
     "text": [
      "151.83737430295722 151.83737430295722 156.98481066846742\n"
     ]
    }
   ],
   "source": [
    "print(error_greedy, error_greedy_recursive, error_greedy_partition)"
   ]
  },
  {
   "cell_type": "markdown",
   "id": "05d4bf1f",
   "metadata": {},
   "source": [
    "## LSCSS"
   ]
  },
  {
   "cell_type": "code",
   "execution_count": 89,
   "id": "f49c283b",
   "metadata": {},
   "outputs": [],
   "source": [
    "from css import lscss_algorithm\n",
    "\n",
    "t = 2 * k\n",
    "error_lscss = lscss_algorithm(data_matrix, k, t)"
   ]
  },
  {
   "cell_type": "code",
   "execution_count": 88,
   "id": "5c39d8b5",
   "metadata": {},
   "outputs": [
    {
     "name": "stdout",
     "output_type": "stream",
     "text": [
      "--- LSCSS 算法开始 ---\n",
      "步骤 1-11: 初始化和构造 A'\n",
      "  t=1: 在原始 A 上选择 k 列用于计算 alpha...\n",
      "  计算得到 alpha = 9.136e-03\n",
      "  已构造扰动矩阵 A' (形状: (208, 60))\n",
      "  t=2: 在 A' 上选择 k 列作为局部搜索的初始解...\n",
      "  局部搜索的初始列索引 (在 A' 中): [17, 22, 32, 38, 40]\n",
      "\n",
      "步骤 13-15: 执行局部搜索 10 次...\n",
      "--- LSCSS 算法结束 ---\n"
     ]
    }
   ],
   "source": [
    "from demo import lscss_algorithm_1\n",
    "\n",
    "_, selected_indices = lscss_algorithm_1(data_matrix, k, t)\n",
    "error_lscss_1 = residual_error(data_matrix, selected_indices)"
   ]
  },
  {
   "cell_type": "code",
   "execution_count": 90,
   "id": "730411df",
   "metadata": {},
   "outputs": [
    {
     "name": "stdout",
     "output_type": "stream",
     "text": [
      "([18, 23, 30, 34, 40], np.float64(163.93528490259783)) 159.76754313634657\n"
     ]
    }
   ],
   "source": [
    "print(error_lscss, error_lscss_1)"
   ]
  }
 ],
 "metadata": {
  "kernelspec": {
   "display_name": "llm",
   "language": "python",
   "name": "python3"
  },
  "language_info": {
   "codemirror_mode": {
    "name": "ipython",
    "version": 3
   },
   "file_extension": ".py",
   "mimetype": "text/x-python",
   "name": "python",
   "nbconvert_exporter": "python",
   "pygments_lexer": "ipython3",
   "version": "3.12.8"
  }
 },
 "nbformat": 4,
 "nbformat_minor": 5
}
