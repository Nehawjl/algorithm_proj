{
 "cells": [
  {
   "cell_type": "code",
   "execution_count": 53,
   "id": "b81431fe",
   "metadata": {},
   "outputs": [
    {
     "name": "stdout",
     "output_type": "stream",
     "text": [
      "The autoreload extension is already loaded. To reload it, use:\n",
      "  %reload_ext autoreload\n"
     ]
    }
   ],
   "source": [
    "import numpy as np\n",
    "from scipy import linalg\n",
    "import matplotlib.pyplot as plt\n",
    "import time\n",
    "from sklearn.datasets import fetch_openml\n",
    "import pandas as pd\n",
    "from sklearn.preprocessing import StandardScaler\n",
    "import os\n",
    "\n",
    "from css.utility import rel_error, seed_everything, frobenius_norm_sq, residual_and_error, residual_and_error_qr\n",
    "from load_data import load_dataset\n",
    "from svd import svd_error\n",
    "from css_solver import CSSProblemSolver\n",
    "\n",
    "%load_ext autoreload\n",
    "%autoreload 2"
   ]
  },
  {
   "cell_type": "markdown",
   "id": "05974622",
   "metadata": {},
   "source": [
    "## Load data from dataset"
   ]
  },
  {
   "cell_type": "code",
   "execution_count": 54,
   "id": "8d4bbfcd",
   "metadata": {},
   "outputs": [
    {
     "name": "stdout",
     "output_type": "stream",
     "text": [
      "Reading data from datasets/cmhs/PS1.txt...\n",
      "File PS1.txt read with shape (2205, 6000)\n",
      "Reading data from datasets/cmhs/PS2.txt...\n",
      "File PS2.txt read with shape (2205, 6000)\n",
      "Reading data from datasets/cmhs/PS3.txt...\n",
      "File PS3.txt read with shape (2205, 6000)\n",
      "Reading data from datasets/cmhs/PS4.txt...\n",
      "File PS4.txt read with shape (2205, 6000)\n",
      "Reading data from datasets/cmhs/PS5.txt...\n",
      "File PS5.txt read with shape (2205, 6000)\n",
      "Reading data from datasets/cmhs/PS6.txt...\n",
      "File PS6.txt read with shape (2205, 6000)\n",
      "Reading data from datasets/cmhs/EPS1.txt...\n",
      "File EPS1.txt read with shape (2205, 6000)\n",
      "Reading data from datasets/cmhs/FS1.txt...\n",
      "File FS1.txt read with shape (2205, 600)\n",
      "Reading data from datasets/cmhs/FS2.txt...\n",
      "File FS2.txt read with shape (2205, 600)\n",
      "Reading data from datasets/cmhs/TS1.txt...\n",
      "File TS1.txt read with shape (2205, 60)\n",
      "Reading data from datasets/cmhs/TS2.txt...\n",
      "File TS2.txt read with shape (2205, 60)\n",
      "Reading data from datasets/cmhs/TS3.txt...\n",
      "File TS3.txt read with shape (2205, 60)\n",
      "Reading data from datasets/cmhs/TS4.txt...\n",
      "File TS4.txt read with shape (2205, 60)\n",
      "Reading data from datasets/cmhs/VS1.txt...\n",
      "File VS1.txt read with shape (2205, 60)\n",
      "Reading data from datasets/cmhs/CE.txt...\n",
      "File CE.txt read with shape (2205, 60)\n",
      "Reading data from datasets/cmhs/CP.txt...\n",
      "File CP.txt read with shape (2205, 60)\n",
      "Reading data from datasets/cmhs/SE.txt...\n",
      "File SE.txt read with shape (2205, 60)\n",
      "Combined data matrix shape: (2205, 43680)\n"
     ]
    }
   ],
   "source": [
    "dataset_name = \"cmhs\" # 208 x 60\n",
    "# dataset_name = \"cmhs\" # 2205 x 43680\n",
    "dataset_dir = \"datasets\"\n",
    "\n",
    "config_path = os.path.join(dataset_dir, dataset_name, \"detail.yaml\")\n",
    "data_matrix = load_dataset(dataset_name, config_path)"
   ]
  },
  {
   "cell_type": "markdown",
   "id": "757ba794",
   "metadata": {},
   "source": [
    "## Baseline -- best rank-k approximation using SVD"
   ]
  },
  {
   "cell_type": "code",
   "execution_count": 55,
   "id": "75a65a83",
   "metadata": {},
   "outputs": [
    {
     "data": {
      "text/plain": [
       "np.float64(2004301751.5969284)"
      ]
     },
     "execution_count": 55,
     "metadata": {},
     "output_type": "execute_result"
    }
   ],
   "source": [
    "k = 5\n",
    "t = 2 * k\n",
    "\n",
    "baseline = svd_error(data_matrix, k)\n",
    "baseline"
   ]
  },
  {
   "cell_type": "code",
   "execution_count": 56,
   "id": "8b6f8aee",
   "metadata": {},
   "outputs": [],
   "source": [
    "solver = CSSProblemSolver()"
   ]
  },
  {
   "cell_type": "markdown",
   "id": "96267b7a",
   "metadata": {},
   "source": [
    "## Random"
   ]
  },
  {
   "cell_type": "code",
   "execution_count": 6,
   "id": "727235e9",
   "metadata": {},
   "outputs": [
    {
     "name": "stdout",
     "output_type": "stream",
     "text": [
      "Selected Indices: [13, 7, 59, 27, 56]\n",
      "Residual Error: 301.91044731403395\n",
      "Error Ratio: 2.995991328947287\n"
     ]
    }
   ],
   "source": [
    "indices_random = solver.solve('random', data_matrix, k)\n",
    "error_random = solver.get_objective(data_matrix, indices_random)\n",
    "print(f\"Selected Indices: {indices_random}\\nResidual Error: {error_random}\\nError Ratio: {error_random / baseline}\")"
   ]
  },
  {
   "cell_type": "markdown",
   "id": "c9360164",
   "metadata": {},
   "source": [
    "## Greedy"
   ]
  },
  {
   "cell_type": "code",
   "execution_count": 57,
   "id": "3fb71838",
   "metadata": {},
   "outputs": [
    {
     "name": "stdout",
     "output_type": "stream",
     "text": [
      "Selected Indices: [np.int64(37992), np.int64(42391), np.int64(40973), np.int64(39251), np.int64(966)]\n",
      "Residual Error: 3537949150.6767087\n",
      "Error Ratio: 1.7651778969198855\n"
     ]
    }
   ],
   "source": [
    "# indices_greedy = solver.solve('greedy', data_matrix, k)\n",
    "# error_greedy = solver.get_objective(data_matrix, indices_greedy)\n",
    "# print(f\"Selected Indices: {indices_greedy}\\nResidual Error: {error_greedy}\\nError Ratio: {error_greedy / baseline}\")\n",
    "\n",
    "indices_greedy_recursive = solver.solve('greedy_rec', data_matrix, k)\n",
    "error_greedy_recursive = solver.get_objective(data_matrix, indices_greedy_recursive)\n",
    "print(f\"Selected Indices: {indices_greedy_recursive}\\nResidual Error: {error_greedy_recursive}\\nError Ratio: {error_greedy_recursive / baseline}\")\n",
    "\n",
    "# indices_greedy_partition = solver.solve('greedy_par', data_matrix, k, k)\n",
    "# error_greedy_partition = residual_error(data_matrix, indices_greedy_partition)\n",
    "# print(f\"Selected Indices: {indices_greedy_partition}\\nResidual Error: {error_greedy_partition}\\nError Ratio: {error_greedy_partition / baseline}\")"
   ]
  },
  {
   "cell_type": "markdown",
   "id": "05d4bf1f",
   "metadata": {},
   "source": [
    "## LSCSS"
   ]
  },
  {
   "cell_type": "code",
   "execution_count": 58,
   "id": "ac8a6ce2",
   "metadata": {},
   "outputs": [
    {
     "name": "stdout",
     "output_type": "stream",
     "text": [
      "selected: [np.int64(38832), np.int64(41586), np.int64(37028), np.int64(39069), np.int64(36515)]\n",
      "error: 2684186452.3356113\n",
      "error ratio: 1.3392127458836898\n"
     ]
    }
   ],
   "source": [
    "selected_indices_lscss = solver.solve('lscss', data_matrix, k, t)\n",
    "error_lscss = solver.get_objective(data_matrix, selected_indices_lscss)\n",
    "print(f\"selected: {selected_indices_lscss}\\nerror: {error_lscss}\\nerror ratio: {error_lscss/baseline}\")"
   ]
  },
  {
   "cell_type": "code",
   "execution_count": 60,
   "id": "fb2f1c22",
   "metadata": {},
   "outputs": [
    {
     "name": "stdout",
     "output_type": "stream",
     "text": [
      "selected: [np.int64(41812), np.int64(40664), np.int64(37005), np.int64(36786), np.int64(38291)]\n",
      "error: 2637700534.6537385\n",
      "error ratio: 1.3160196724630657\n"
     ]
    }
   ],
   "source": [
    "selected_indices_lscss_qr = solver.solve('lscss_qr', data_matrix, k, t)\n",
    "error_lscss_qr = solver.get_objective(data_matrix, selected_indices_lscss_qr)\n",
    "print(f\"selected: {selected_indices_lscss_qr}\\nerror: {error_lscss_qr}\\nerror ratio: {error_lscss_qr/baseline}\")"
   ]
  },
  {
   "cell_type": "markdown",
   "id": "584a8047",
   "metadata": {},
   "source": [
    "## Brute Force\n",
    "ONLY for small datasets. The following shows the best result on Sonar dataset when k is 5"
   ]
  },
  {
   "cell_type": "code",
   "execution_count": 956,
   "id": "268ff9c2",
   "metadata": {},
   "outputs": [
    {
     "name": "stdout",
     "output_type": "stream",
     "text": [
      "selected: [16, 19, 24, 29, 35]\n",
      "error: 139.03087039957987\n",
      "error ratio: 1.3796650161624704\n"
     ]
    }
   ],
   "source": [
    "selected_indices_bf = solver.solve('bf', data_matrix, k)\n",
    "error_bf = solver.get_objective(data_matrix, selected_indices_bf)\n",
    "print(f\"selected: {selected_indices_bf}\\nerror: {error_bf}\\nerror ratio: {error_bf / baseline}\")"
   ]
  }
 ],
 "metadata": {
  "kernelspec": {
   "display_name": "llm",
   "language": "python",
   "name": "python3"
  },
  "language_info": {
   "codemirror_mode": {
    "name": "ipython",
    "version": 3
   },
   "file_extension": ".py",
   "mimetype": "text/x-python",
   "name": "python",
   "nbconvert_exporter": "python",
   "pygments_lexer": "ipython3",
   "version": "3.12.8"
  }
 },
 "nbformat": 4,
 "nbformat_minor": 5
}
